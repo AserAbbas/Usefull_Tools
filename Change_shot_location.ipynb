{
 "cells": [
  {
   "cell_type": "markdown",
   "metadata": {},
   "source": [
    "#### Aser Abbas | Utah State University\n",
    "This notebook is based on the work of Joseph Vantassel"
   ]
  },
  {
   "cell_type": "code",
   "execution_count": null,
   "metadata": {},
   "outputs": [],
   "source": [
    "import swprocess\n",
    "import obspy\n",
    "import numpy as np\n",
    "import os"
   ]
  },
  {
   "cell_type": "markdown",
   "metadata": {},
   "source": [
    "# Inputs"
   ]
  },
  {
   "cell_type": "code",
   "execution_count": null,
   "metadata": {},
   "outputs": [],
   "source": [
    "Files_You_want_to_change_the_source=[\"2.dat\",\"2.dat\",\"3.dat\",\"4.dat\",\"5.dat\",\"6.dat\",\"7.dat\",\"8.dat\",\"9.dat\",\"10.dat\"]\n",
    "Correct_shot_location= -15"
   ]
  },
  {
   "cell_type": "markdown",
   "metadata": {},
   "source": [
    "# Processing"
   ]
  },
  {
   "cell_type": "code",
   "execution_count": null,
   "metadata": {},
   "outputs": [],
   "source": [
    "os.makedirs(f\"Corrected_files\")\n",
    "\n",
    "#reading the files to be edited\n",
    "arrays=[]\n",
    "for n, file in enumerate (Files_You_want_to_change_the_source):\n",
    "    array1 = swprocess.Array1D.from_files(file)\n",
    "    arrays.append(array1)\n",
    "\n",
    "\n",
    "#save files with the corrected shot locations\n",
    "for n, array in enumerate (arrays):\n",
    "    stream = obspy.Stream()\n",
    "    array.source._x=Correct_shot_location\n",
    "\n",
    "    rint = lambda x: int(round(x))\n",
    "\n",
    "    for sensor in array.sensors:\n",
    "        trace = obspy.Trace(np.array(sensor.amplitude, dtype=np.float32))\n",
    "        trace.stats.delta = sensor.dt\n",
    "        trace.stats.starttime = obspy.UTCDateTime(2020, 12, 18, 10, 0, 0)\n",
    "\n",
    "        if not hasattr(trace.stats, 'su'):\n",
    "            trace.stats.su = {}\n",
    "        trace.stats.su.trace_header = obspy.io.segy.segy.SEGYTraceHeader()\n",
    "        trace.stats.su.trace_header.scalar_to_be_applied_to_all_coordinates = -1000\n",
    "        trace.stats.su.trace_header.source_coordinate_x = rint(array.source._x*1000)\n",
    "        trace.stats.su.trace_header.source_coordinate_y = rint(array.source._y*1000)\n",
    "        trace.stats.su.trace_header.number_of_horizontally_stacked_traces_yielding_this_trace = rint(sensor.nstacks-1)\n",
    "        trace.stats.su.trace_header.delay_recording_time = rint(sensor.delay*1000)\n",
    "        trace.stats.su.trace_header.group_coordinate_x = rint(sensor.x*1000)\n",
    "        trace.stats.su.trace_header.group_coordinate_y = rint(sensor.y*1000)\n",
    "        trace.stats.su.trace_header.coordinate_units = 1\n",
    "\n",
    "        stream.append(trace)\n",
    "    fname=f\"Corrected_files/{Files_You_want_to_change_the_source[n]}\"\n",
    "    stream.write(filename=fname, format=\"SU\")\n"
   ]
  },
  {
   "cell_type": "markdown",
   "metadata": {},
   "source": [
    "#### Plot original (wrong) files"
   ]
  },
  {
   "cell_type": "code",
   "execution_count": null,
   "metadata": {},
   "outputs": [],
   "source": [
    "for n, file in enumerate(Files_You_want_to_change_the_source):\n",
    "    arr = swprocess.Array1D.from_files(Files_You_want_to_change_the_source[n])\n",
    "    arr.plot()"
   ]
  },
  {
   "cell_type": "markdown",
   "metadata": {},
   "source": [
    "#### Plot new (corrected) files"
   ]
  },
  {
   "cell_type": "code",
   "execution_count": null,
   "metadata": {},
   "outputs": [],
   "source": [
    "for n, file in enumerate(Files_You_want_to_change_the_source):\n",
    "    fname=f\"Corrected_files/{Files_You_want_to_change_the_source[n]}\"\n",
    "    arr = swprocess.Array1D.from_files(fname)\n",
    "    arr.plot()"
   ]
  },
  {
   "cell_type": "code",
   "execution_count": null,
   "metadata": {},
   "outputs": [],
   "source": []
  }
 ],
 "metadata": {
  "kernelspec": {
   "display_name": "Python 3",
   "language": "python",
   "name": "python3"
  },
  "language_info": {
   "codemirror_mode": {
    "name": "ipython",
    "version": 3
   },
   "file_extension": ".py",
   "mimetype": "text/x-python",
   "name": "python",
   "nbconvert_exporter": "python",
   "pygments_lexer": "ipython3",
   "version": "3.8.5"
  }
 },
 "nbformat": 4,
 "nbformat_minor": 4
}
