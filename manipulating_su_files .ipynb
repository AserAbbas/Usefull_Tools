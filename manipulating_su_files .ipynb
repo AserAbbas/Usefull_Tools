{
 "cells": [
  {
   "cell_type": "code",
   "execution_count": 74,
   "id": "453b169a",
   "metadata": {},
   "outputs": [],
   "source": [
    "import obspy\n",
    "import numpy as np\n",
    "import matplotlib.pyplot as plt"
   ]
  },
  {
   "cell_type": "code",
   "execution_count": 119,
   "id": "bed9f890",
   "metadata": {},
   "outputs": [
    {
     "data": {
      "text/plain": [
       "         network: \n",
       "         station: \n",
       "        location: \n",
       "         channel: \n",
       "       starttime: 1970-01-01T00:00:00.000000Z\n",
       "         endtime: 1970-01-01T00:00:01.997500Z\n",
       "   sampling_rate: 400.0\n",
       "           delta: 0.0025\n",
       "            npts: 800\n",
       "           calib: 1.0\n",
       "         _format: SU\n",
       "              su: AttribDict({'trace_header': AttribDict({'endian': '<', 'unpacked_header': None, 'trace_sequence_number_within_line': 0, 'trace_sequence_number_within_segy_file': 0, 'original_field_record_number': 0, 'trace_number_within_the_original_field_record': 0, 'energy_source_point_number': 0, 'ensemble_number': 0, 'trace_number_within_the_ensemble': 0, 'trace_identification_code': 1, 'number_of_vertically_summed_traces_yielding_this_trace': 0, 'number_of_horizontally_stacked_traces_yielding_this_trace': 0, 'data_use': 0, 'distance_from_center_of_the_source_point_to_the_center_of_the_receiver_group': 1000, 'receiver_group_elevation': 200, 'surface_elevation_at_source': 0, 'source_depth_below_surface': 200, 'datum_elevation_at_receiver_group': 0, 'datum_elevation_at_source': 0, 'water_depth_at_source': -136013, 'water_depth_at_group': 0, 'scalar_to_be_applied_to_all_elevations_and_depths': -1000, 'scalar_to_be_applied_to_all_coordinates': -1000, 'source_coordinate_x': 29000, 'source_coordinate_y': 200, 'group_coordinate_x': 28000, 'group_coordinate_y': 200, 'coordinate_units': 0, 'weathering_velocity': 0, 'subweathering_velocity': 0, 'uphole_time_at_source_in_ms': 0, 'uphole_time_at_group_in_ms': 0, 'source_static_correction_in_ms': 0, 'group_static_correction_in_ms': 0, 'total_static_applied_in_ms': 0, 'lag_time_A': 0, 'lag_time_B': 0, 'delay_recording_time': 0, 'mute_time_start_time_in_ms': 0, 'mute_time_end_time_in_ms': 0, 'number_of_samples_in_this_trace': 800, 'sample_interval_in_ms_for_this_trace': 2500, 'gain_type_of_field_instruments': 0, 'instrument_gain_constant': 0, 'instrument_early_or_initial_gain': 0, 'correlated': 0, 'sweep_frequency_at_start': 0, 'sweep_frequency_at_end': 0, 'sweep_length_in_ms': 0, 'sweep_type': 0, 'sweep_trace_taper_length_at_start_in_ms': 0, 'sweep_trace_taper_length_at_end_in_ms': 0, 'taper_type': 0, 'alias_filter_frequency': 0, 'alias_filter_slope': 0, 'notch_filter_frequency': 0, 'notch_filter_slope': 0, 'low_cut_frequency': 0, 'high_cut_frequency': 0, 'low_cut_slope': 0, 'high_cut_slope': 0, 'year_data_recorded': 0, 'day_of_year': 0, 'hour_of_day': 0, 'minute_of_hour': 0, 'second_of_minute': 0, 'time_basis_code': 0, 'trace_weighting_factor': 0, 'geophone_group_number_of_roll_switch_position_one': 0, 'geophone_group_number_of_trace_number_one': 0, 'geophone_group_number_of_last_trace': 0, 'gap_size': 0, 'over_travel_associated_with_taper': 0, 'x_coordinate_of_ensemble_position_of_this_trace': 992204554, 'y_coordinate_of_ensemble_position_of_this_trace': 0, 'for_3d_poststack_data_this_field_is_for_in_line_number': 0, 'for_3d_poststack_data_this_field_is_for_cross_line_number': 0, 'shotpoint_number': 0, 'scalar_to_be_applied_to_the_shotpoint_number': 0, 'trace_value_measurement_unit': 0, 'transduction_constant_mantissa': 0, 'transduction_constant_exponent': 0, 'transduction_units': 0, 'device_trace_identifier': 0, 'scalar_to_be_applied_to_times': 0, 'source_type_orientation': 0, 'source_energy_direction_mantissa': 0, 'source_energy_direction_exponent': 0, 'source_measurement_mantissa': 0, 'source_measurement_exponent': 0, 'source_measurement_unit': 0, 'unassigned': b'\\x00\\x00\\x00\\x00\\x00\\x00\\x00\\x00'}), 'endian': '<'})"
      ]
     },
     "execution_count": 119,
     "metadata": {},
     "output_type": "execute_result"
    }
   ],
   "source": [
    "# The unpack trace header keyword increases the size of the file significantly, but it provides all the trace information. You don't need to include it\n",
    "stream = obspy.read(\"su_files/cmodel_x.su.shot2\", unpack_trace_headers=True)\n",
    "\n",
    "# The following line shows the header files for the specified trace\n",
    "stream.traces[0].stats\n",
    "\n",
    "# the following line can be used to change the shot location \n",
    "#stream.traces[0].stats.su.trace_header[\"source_coordinate_x\"] = write the value here"
   ]
  },
  {
   "cell_type": "code",
   "execution_count": 80,
   "id": "57794586",
   "metadata": {},
   "outputs": [
    {
     "data": {
      "text/plain": [
       "[<matplotlib.lines.Line2D at 0x1e8db347e20>]"
      ]
     },
     "execution_count": 80,
     "metadata": {},
     "output_type": "execute_result"
    },
    {
     "data": {
      "image/png": "[encoded data removed]",
      "text/plain": [
       "<Figure size 432x288 with 1 Axes>"
      ]
     },
     "metadata": {
      "needs_background": "light"
     },
     "output_type": "display_data"
    }
   ],
   "source": [
    "# su files only contain amplitude array and dt. it doesn't store a time array\n",
    "amp = stream.traces[0].data\n",
    "\n",
    "# get dt from the header file \n",
    "dt = stream.traces[0].stats.delta\n",
    "\n",
    "# get the start time from the header file\n",
    "starttime = stream.traces[0].stats.starttime\n",
    "\n",
    "# get the end time from the header file\n",
    "endtime=stream.traces[0].stats.endtime\n",
    "\n",
    "# define a time vector using the start and end times, and dt\n",
    "time = np.arange(starttime,endtime+dt,dt)\n",
    "\n",
    "# plot the time series using the amplitude and the defined time vector\n",
    "plt.plot(time,amp)"
   ]
  },
  {
   "cell_type": "code",
   "execution_count": 28,
   "id": "36af67a2",
   "metadata": {},
   "outputs": [
    {
     "data": {
      "text/plain": [
       "1970-01-01T00:00:00.000000Z"
      ]
     },
     "execution_count": 28,
     "metadata": {},
     "output_type": "execute_result"
    }
   ],
   "source": [
    "# stream[0].stats[\"starttime\"]\n",
    "# for trace in stream.traces"
   ]
  },
  {
   "cell_type": "code",
   "execution_count": null,
   "id": "3c7e8ebb",
   "metadata": {},
   "outputs": [],
   "source": []
  }
 ],
 "metadata": {
  "kernelspec": {
   "display_name": "Python 3 (ipykernel)",
   "language": "python",
   "name": "python3"
  },
  "language_info": {
   "codemirror_mode": {
    "name": "ipython",
    "version": 3
   },
   "file_extension": ".py",
   "mimetype": "text/x-python",
   "name": "python",
   "nbconvert_exporter": "python",
   "pygments_lexer": "ipython3",
   "version": "3.8.5"
  }
 },
 "nbformat": 4,
 "nbformat_minor": 5
}
